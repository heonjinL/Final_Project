{
 "cells": [
  {
   "cell_type": "markdown",
   "id": "mobile-johns",
   "metadata": {},
   "source": [
    "# Load Packages"
   ]
  },
  {
   "cell_type": "code",
   "execution_count": 1,
   "id": "cosmetic-bolivia",
   "metadata": {},
   "outputs": [],
   "source": [
    "# scikit-learn, scikit-image are needed\n",
    "# If those packages are missed, then, install them by using the following command\n",
    "# pip install scikit-learn scikit-image\n",
    "\n",
    "\n",
    "import os\n",
    "\n",
    "import sklearn.datasets\n",
    "import sklearn.linear_model\n",
    "import sklearn.svm\n",
    "import sklearn.tree\n",
    "import sklearn.ensemble\n",
    "import sklearn.model_selection\n",
    "import sklearn.metrics\n",
    "\n",
    "from sklearn.feature_selection import SelectFromModel\n",
    "\n",
    "import skimage.io\n",
    "import skimage.transform\n",
    "import skimage.color\n",
    "from sklearn.preprocessing import StandardScaler\n",
    "from sklearn.pipeline import Pipeline\n",
    "from sklearn.model_selection import StratifiedKFold, cross_val_score\n",
    "from scipy.stats import reciprocal, uniform\n",
    "\n",
    "from sklearn.model_selection import RandomizedSearchCV\n",
    "\n",
    "\n",
    "import numpy as np\n",
    "import pandas as pd\n",
    "\n",
    "import matplotlib.pyplot as plt \n",
    "%matplotlib inline"
   ]
  },
  {
   "cell_type": "markdown",
   "id": "modern-columbia",
   "metadata": {},
   "source": [
    "# Load Additional Packages (if you want to use other modules in Scikit Learn)"
   ]
  },
  {
   "cell_type": "code",
   "execution_count": 2,
   "id": "racial-growing",
   "metadata": {},
   "outputs": [],
   "source": [
    "# Load additional scikit learn packages! if you need"
   ]
  },
  {
   "cell_type": "markdown",
   "id": "immediate-briefs",
   "metadata": {},
   "source": [
    "# Load Data Points (Do not modify the following block)"
   ]
  },
  {
   "cell_type": "code",
   "execution_count": null,
   "id": "surgical-background",
   "metadata": {
    "scrolled": false
   },
   "outputs": [],
   "source": [
    "image_size = 64\n",
    "labels = ['glioma_tumor','meningioma_tumor','no_tumor','pituitary_tumor']\n",
    "\n",
    "images = []\n",
    "y = []\n",
    "for i in labels:\n",
    "    folderPath = os.path.join('./tumor_dataset/Training',i)\n",
    "    for j in os.listdir(folderPath):\n",
    "        img = skimage.io.imread(os.path.join(folderPath,j),)\n",
    "        img = skimage.transform.resize(img,(image_size,image_size))\n",
    "        img = skimage.color.rgb2gray(img)\n",
    "        images.append(img)\n",
    "        y.append(i)\n",
    "        \n",
    "images = np.array(images)\n",
    "\n",
    "X = images.reshape((-1, image_size**2))\n",
    "y = np.array(y)"
   ]
  },
  {
   "cell_type": "code",
   "execution_count": null,
   "id": "5ff63d2b",
   "metadata": {
    "scrolled": false
   },
   "outputs": [],
   "source": [
    "j = 0\n",
    "for i in range(len(y)):\n",
    "    if y[i] in labels[j]:\n",
    "        plt.imshow(images[i])\n",
    "        plt.title(\"[Index:{}] Label:{}\".format(i, y[i]))\n",
    "        plt.show()\n",
    "        j += 1\n",
    "    if j >= len(labels):\n",
    "        break"
   ]
  },
  {
   "cell_type": "code",
   "execution_count": null,
   "id": "cc23d262",
   "metadata": {},
   "outputs": [],
   "source": [
    "X_train, X_test, y_train, y_test = sklearn.model_selection.train_test_split(X, y, test_size=0.3, random_state=0)"
   ]
  },
  {
   "cell_type": "markdown",
   "id": "isolated-airfare",
   "metadata": {},
   "source": [
    "# Classification with Scikit Learn Library (Programming Assignment)\n",
    "### Variable Explanation (Do not change variable names)\n",
    "- 'X_train' is feature vectors of training dataset\n",
    "- 'y_train' is target labels of training dataset\n",
    "- 'X_test' is feature vectors of test dataset\n",
    "- 'y_test' is target labels of test dataset\n",
    "- 'y_pred' was initialized as zero vectors and fill 'y_pred' with predicted labels\n",
    "\n",
    "### Find the best model and hyperparameter for tumor classification\n",
    "- Find the best random seed as well and fix it to reproduce your result on other computers."
   ]
  },
  {
   "cell_type": "code",
   "execution_count": null,
   "id": "funded-playing",
   "metadata": {},
   "outputs": [],
   "source": [
    "\n",
    "rfc=sklearn.ensemble.RandomForestClassifier(max_depth=100)\n",
    "rfc.fit(X_train,y_train)\n",
    "y_pred = rfc.predict(X_test)\n",
    "print('RandomForest : %f' % sklearn.metrics.accuracy_score(y_test,y_pred))"
   ]
  },
  {
   "cell_type": "code",
   "execution_count": null,
   "id": "d76e4b89",
   "metadata": {},
   "outputs": [],
   "source": [
    "print(\"특성 중요도 : \\n{}\".format(rfc.feature_importances_))\n",
    "\n",
    "def plot_feature_importances(model):\n",
    "    n_features = X_test.shape[1]\n",
    "    plt.barh(range(n_features), model.feature_importances_, align='center')\n",
    "    plt.yticks(np.arange(n_features),x)\n",
    "    plt.xlabel(\"feature importances\")\n",
    "    plt.ylabel(\"feature\")\n",
    "    plt.ylim(-1, n_features)\n",
    "plt.show()\n",
    "\n",
    "plot_feature_importances(rfc)"
   ]
  },
  {
   "cell_type": "code",
   "execution_count": null,
   "id": "c750f219",
   "metadata": {},
   "outputs": [],
   "source": [
    "from sklearn.feature_selection import SelectFromModel\n",
    "\n",
    "thresholds = np.sort(rfc.feature_importances_)[::-1]  # 중요도를 기준으로 오름차순 정렬\n",
    "best_accuracy = 0\n",
    "best_threshold = 0\n",
    "\n",
    "for i in range(1000,2500):\n",
    "    # SelectFromModel을 사용하여 중요도가 threshold 이상인 특성 선택\n",
    "    sfm = SelectFromModel(rfc, threshold=thresholds[i], prefit=True)\n",
    "    X_train_selected = sfm.transform(X_train)\n",
    "    X_test_selected = sfm.transform(X_test)\n",
    "\n",
    "    # 모델 훈련 및 예측\n",
    "    model = sklearn.ensemble.RandomForestClassifier(random_state=42)\n",
    "    model.fit(X_train_selected, y_train)\n",
    "    y_pred = model.predict(X_test_selected)\n",
    "\n",
    "    # 정확도 계산\n",
    "    accuracy = sklearn.metrics.accuracy_score(y_test, y_pred)\n",
    "\n",
    "    # 현재 임계값에서의 정확도가 최고인 경우 업데이트\n",
    "    if accuracy > best_accuracy:\n",
    "        best_accuracy = accuracy\n",
    "        best_threshold = thresholds[i]\n",
    "\n",
    "print(f\"Best Threshold: {best_threshold:f}\")\n",
    "print(f\"Best Accuracy: {best_accuracy:.4f}\")"
   ]
  },
  {
   "cell_type": "code",
   "execution_count": null,
   "id": "756a1ba9",
   "metadata": {},
   "outputs": [],
   "source": [
    "sfm = SelectFromModel(rfc, threshold=best_threshold, prefit=True)\n",
    "X_train_selected = sfm.transform(X_train)\n",
    "X_test_selected = sfm.transform(X_test)"
   ]
  },
  {
   "cell_type": "code",
   "execution_count": null,
   "id": "56f2f7ac",
   "metadata": {},
   "outputs": [],
   "source": [
    "max_depth = np.random.randint(90, 150, 10) ## 3~20사이 임의의 100개 int 생성\n",
    "max_depth = np.append(max_depth, None)\n",
    "n_estimators = np.random.randint(100,400,50)\n",
    "\n",
    "param_dist = {\n",
    "    'rf_classifier__n_estimators': n_estimators,\n",
    "    'rf_classifier__max_depth': max_depth,\n",
    "    'rf_classifier__min_samples_split': np.random.randint(2,10,5),\n",
    "    'rf_classifier__min_samples_leaf': np.random.randint(2,10,5),\n",
    "    'rf_classifier__max_features': ['sqrt']+list(reciprocal(0.1,0.5).rvs(20))\n",
    "}\n",
    "\n",
    "pipeline = Pipeline([\n",
    "    ('scaler', StandardScaler()),  # 표준화\n",
    "    ('rf_classifier', sklearn.ensemble.RandomForestClassifier(random_state=42))  # 랜덤 포레스트 분류기\n",
    "])\n",
    "\n",
    "random_search = RandomizedSearchCV(\n",
    "    pipeline,\n",
    "    param_distributions=param_dist,\n",
    "    n_iter=10,\n",
    "    scoring='accuracy',\n",
    "    cv=5,\n",
    "    random_state=42\n",
    ")\n",
    "\n",
    "random_search.fit(X_train_selected, y_train)\n",
    "\n",
    "# RandomizedSearchCV에서 찾은 최적의 매개변수 가져오기\n",
    "best_params = random_search.best_params_\n",
    "\n",
    "# 최적의 매개변수로 파이프라인을 사용하여 모델 훈련\n",
    "best_pipeline = Pipeline([\n",
    "    ('scaler', StandardScaler()),  # 표준화\n",
    "    ('rf_classifier', sklearn.ensemble.RandomForestClassifier(\n",
    "        n_estimators=best_params['rf_classifier__n_estimators'],\n",
    "        max_depth=best_params['rf_classifier__max_depth'],\n",
    "        min_samples_split=best_params['rf_classifier__min_samples_split'],\n",
    "        min_samples_leaf=best_params['rf_classifier__min_samples_leaf'],\n",
    "        max_features=best_params['rf_classifier__max_features'],\n",
    "        random_state=42\n",
    "    ))\n",
    "])\n",
    "\n",
    "# 최적의 매개변수로 파이프라인을 사용하여 모델 훈련\n",
    "best_pipeline.fit(X_train_selected, y_train)\n",
    "y_pred = best_pipeline.predict(X_test_selected)\n",
    "\n",
    "joblib.dump(best_pipeline, 'model.pkl')"
   ]
  },
  {
   "cell_type": "markdown",
   "id": "twenty-mistake",
   "metadata": {},
   "source": [
    "### Print accuracy (do not modify the following block)"
   ]
  },
  {
   "cell_type": "code",
   "execution_count": null,
   "id": "alien-concert",
   "metadata": {
    "scrolled": true
   },
   "outputs": [],
   "source": [
    "print('Accuracy: %.2f' % sklearn.metrics.accuracy_score(y_test, y_pred))"
   ]
  },
  {
   "cell_type": "code",
   "execution_count": null,
   "id": "0d314261",
   "metadata": {},
   "outputs": [],
   "source": []
  }
 ],
 "metadata": {
  "kernelspec": {
   "display_name": "Python 3 (ipykernel)",
   "language": "python",
   "name": "python3"
  },
  "language_info": {
   "codemirror_mode": {
    "name": "ipython",
    "version": 3
   },
   "file_extension": ".py",
   "mimetype": "text/x-python",
   "name": "python",
   "nbconvert_exporter": "python",
   "pygments_lexer": "ipython3",
   "version": "3.11.4"
  }
 },
 "nbformat": 4,
 "nbformat_minor": 5
}
